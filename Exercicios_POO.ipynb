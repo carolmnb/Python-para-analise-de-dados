{
  "cells": [
    {
      "cell_type": "markdown",
      "metadata": {
        "id": "view-in-github",
        "colab_type": "text"
      },
      "source": [
        "<a href=\"https://colab.research.google.com/github/carolmnb/Python-para-analise-de-dados/blob/main/Exercicios_POO.ipynb\" target=\"_parent\"><img src=\"https://colab.research.google.com/assets/colab-badge.svg\" alt=\"Open In Colab\"/></a>"
      ]
    },
    {
      "cell_type": "markdown",
      "metadata": {
        "id": "-PvgCmmS4-hR"
      },
      "source": [
        "# <font color='blue'>Data Science Academy - Python Fundamentos - Capítulo 5</font>\n",
        "\n",
        "## Download: http://github.com/dsacademybr"
      ]
    },
    {
      "cell_type": "code",
      "execution_count": null,
      "metadata": {
        "id": "zNS29eiA4-hT",
        "outputId": "1dad339c-7488-4a80-f218-c91e1a08f6b0"
      },
      "outputs": [
        {
          "name": "stdout",
          "output_type": "stream",
          "text": [
            "Versão da Linguagem Python Usada Neste Jupyter Notebook: 3.8.12\n"
          ]
        }
      ],
      "source": [
        "# Versão da Linguagem Python\n",
        "from platform import python_version\n",
        "print('Versão da Linguagem Python Usada Neste Jupyter Notebook:', python_version())"
      ]
    },
    {
      "cell_type": "markdown",
      "metadata": {
        "id": "zXAOycUW4-hW"
      },
      "source": [
        "## Exercícios"
      ]
    },
    {
      "cell_type": "code",
      "execution_count": null,
      "metadata": {
        "id": "Wn5UxJl74-hX"
      },
      "outputs": [],
      "source": [
        "# Exercício 1 - Crie um objeto a partir da classe abaixo, chamado roc1, passando 2 parâmetros e depois faça uma chamada\n",
        "# aos atributos e métodos\n",
        "from math import sqrt\n",
        "\n",
        "class Rocket():\n",
        "     \n",
        "    def __init__(self, x=0, y=0): ## inicializa com zero\n",
        "        self.x = x ## self referencia o atributo x do objeto criado (roc1) a partir da classe Rocket \n",
        "        self.y = y\n",
        "        \n",
        "    def move_rocket(self, x_increment=0, y_increment=1): ## faz o incremento de 0 em x e 1 em y aos valores passados\n",
        "        self.x += x_increment                            ## como parametro\n",
        "        self.y += y_increment\n",
        "        \n",
        "    def print_rocket(self): ## função para imprimir o resultado após os parametros passados aos atributos x e y.\n",
        "        print(self.x, self.y)\n",
        "        "
      ]
    },
    {
      "cell_type": "code",
      "execution_count": null,
      "metadata": {
        "id": "7YmgqXiD4-hY"
      },
      "outputs": [],
      "source": [
        "roc1 = Rocket(5,5) ## instanciei minha classe. criei o objeto roc1 e passei dois parametros"
      ]
    },
    {
      "cell_type": "code",
      "execution_count": null,
      "metadata": {
        "id": "HJSV4Vqh4-hY"
      },
      "outputs": [],
      "source": [
        "roc1.move_rocket() ## chamei a funcao. pega os valores passados como parametros e realiza o incremento em x e y."
      ]
    },
    {
      "cell_type": "code",
      "execution_count": null,
      "metadata": {
        "colab": {
          "base_uri": "https://localhost:8080/"
        },
        "id": "bf0D-AtE4-hZ",
        "outputId": "da72e8b4-6d63-4fd7-9aa8-1308308a0a0e"
      },
      "outputs": [
        {
          "output_type": "stream",
          "name": "stdout",
          "text": [
            "5 6\n"
          ]
        }
      ],
      "source": [
        "roc1.print_rocket()"
      ]
    },
    {
      "cell_type": "code",
      "execution_count": 13,
      "metadata": {
        "id": "0EeBQ52C4-ha"
      },
      "outputs": [],
      "source": [
        "# Exercício 2 - Crie uma classe chamada Pessoa() com os atributos: nome, cidade, telefone e e-mail. Use pelo menos 2\n",
        "# métodos especiais na sua classe. Crie um objeto da sua classe e faça uma chamada a pelo menos um dos seus métodos\n",
        "# especiais.\n",
        "\n",
        "class Pessoa():\n",
        "    \n",
        "    def __init__(self, nome, cidade, telefone, email):\n",
        "        print(\"pessoa adicionada\")\n",
        "        self.nome = nome\n",
        "        self.cidade = cidade\n",
        "        self.telefone = telefone\n",
        "        self.email = email\n",
        "        \n",
        "    def __str__(self):  # método que retorna uma string a um objeto\n",
        "        return \"nome: %s, cidade: %s, telefone: %s, email: %s\" \\\n",
        "    %(self.nome, self.cidade, self.telefone, self.email)\n",
        "    \n",
        "    def __add__(self, lastName): # método que adiciona ao objeto\n",
        "        return Pessoa(self.nome + lastName.nome)"
      ]
    },
    {
      "cell_type": "code",
      "execution_count": null,
      "metadata": {
        "colab": {
          "base_uri": "https://localhost:8080/"
        },
        "id": "wuDAVD_Q4-hb",
        "outputId": "e20b53cf-e4fd-4ede-9290-83b08a040a57"
      },
      "outputs": [
        {
          "output_type": "stream",
          "name": "stdout",
          "text": [
            "pessoa adicionada\n"
          ]
        }
      ],
      "source": [
        "Pessoa1 = Pessoa(\"Maria Luiza\", \"Belém\", \"11223344\", \"marlu@gmail.com\")"
      ]
    },
    {
      "cell_type": "code",
      "execution_count": null,
      "metadata": {
        "colab": {
          "base_uri": "https://localhost:8080/"
        },
        "id": "JfWbTsju4-hc",
        "outputId": "94c3985c-275d-4972-ac94-0700fb64b7a8"
      },
      "outputs": [
        {
          "output_type": "stream",
          "name": "stdout",
          "text": [
            "nome: Maria Luiza, cidade: Belém, telefone: 11223344, email: marlu@gmail.com\n"
          ]
        }
      ],
      "source": [
        "print(Pessoa1)"
      ]
    },
    {
      "cell_type": "code",
      "execution_count": null,
      "metadata": {
        "colab": {
          "base_uri": "https://localhost:8080/"
        },
        "id": "2Xx7_DvJ4-hd",
        "outputId": "f465d11c-6ea1-488a-8490-6f4dd8418d80"
      },
      "outputs": [
        {
          "output_type": "stream",
          "name": "stdout",
          "text": [
            "Maria Luiza Silva\n"
          ]
        }
      ],
      "source": [
        "modif = Pessoa1.nome + \" Silva\"\n",
        "print(modif)"
      ]
    },
    {
      "cell_type": "code",
      "execution_count": null,
      "metadata": {
        "id": "x85WwBhq4-he"
      },
      "outputs": [],
      "source": [
        "# Exercício 3 - Crie a classe Smartphone com 2 atributos, tamanho e interface e crie a classe MP3Player com os \n",
        "# atributos capacidade. A classe MP3player deve herdar os atributos da classe Smartphone.\n",
        "\n",
        "class Smartphone(object):\n",
        "    \n",
        "    def __init__(self, tamanho, interface):\n",
        "        print(\"classe Smartphone criada\")\n",
        "        self.tamanho = tamanho\n",
        "        self.interface = interface\n",
        "    \n",
        "    def __str__(self):\n",
        "        return \"tamanho: %s, interface: %s\" \\\n",
        "    %(self.tamanho, self.interface) "
      ]
    },
    {
      "cell_type": "code",
      "execution_count": null,
      "metadata": {
        "id": "V6uiGgXW4-he"
      },
      "outputs": [],
      "source": [
        "# criando a sub-classe MP3Player.\n",
        "class MP3Player(Smartphone):\n",
        "    \n",
        "    def __init__(self, capacidade, tamanho, interface):\n",
        "        self.capacidade = capacidade\n",
        "        Smartphone.__init__(self, tamanho, interface)\n",
        "        print(\"objeto mp3 criado\")\n",
        "        \n",
        "    #def __str__(self):\n",
        "     #   return \"capacidade: %s\" \\\n",
        "    #%(self.capacidade)\n",
        "    \n",
        "    def imprime(self):\n",
        "        print(\"configurações do mp3: %s %s %s\" %(self.capacidade, self.tamanho, self.interface))"
      ]
    },
    {
      "cell_type": "code",
      "execution_count": null,
      "metadata": {
        "colab": {
          "base_uri": "https://localhost:8080/"
        },
        "id": "GpcSDtzp4-hf",
        "outputId": "6e6a37fd-43c5-4c6b-b320-ea5dae00511a"
      },
      "outputs": [
        {
          "output_type": "stream",
          "name": "stdout",
          "text": [
            "classe Smartphone criada\n",
            "objeto mp3 criado\n"
          ]
        }
      ],
      "source": [
        "modelo1 = MP3Player('48Gb', 'medio', 'Led')"
      ]
    },
    {
      "cell_type": "code",
      "execution_count": null,
      "metadata": {
        "colab": {
          "base_uri": "https://localhost:8080/"
        },
        "id": "iyk_k74J4-hg",
        "outputId": "41a534b2-26b3-4169-869f-567eb8dbd70a"
      },
      "outputs": [
        {
          "output_type": "stream",
          "name": "stdout",
          "text": [
            "configurações do mp3: 48Gb medio Led\n"
          ]
        }
      ],
      "source": [
        "modelo1.imprime()"
      ]
    },
    {
      "cell_type": "markdown",
      "metadata": {
        "id": "UVhxXapv4-hg"
      },
      "source": [
        "### FIM"
      ]
    },
    {
      "cell_type": "markdown",
      "metadata": {
        "id": "94f1c-0B4-hh"
      },
      "source": [
        "### Obrigado\n",
        "\n",
        "### Visite o Blog da Data Science Academy - <a href=\"http://blog.dsacademy.com.br\">Blog DSA</a>"
      ]
    }
  ],
  "metadata": {
    "kernelspec": {
      "display_name": "Python 3 (ipykernel)",
      "language": "python",
      "name": "python3"
    },
    "language_info": {
      "codemirror_mode": {
        "name": "ipython",
        "version": 3
      },
      "file_extension": ".py",
      "mimetype": "text/x-python",
      "name": "python",
      "nbconvert_exporter": "python",
      "pygments_lexer": "ipython3",
      "version": "3.8.12"
    },
    "colab": {
      "name": "Exercicios-POO.ipynb",
      "provenance": [],
      "include_colab_link": true
    }
  },
  "nbformat": 4,
  "nbformat_minor": 0
}